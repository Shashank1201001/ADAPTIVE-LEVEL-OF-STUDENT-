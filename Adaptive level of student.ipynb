{
 "cells": [
  {
   "cell_type": "code",
   "execution_count": 1,
   "metadata": {},
   "outputs": [],
   "source": [
    "import pandas as pd\n",
    "import numpy as np\n",
    "import warnings\n",
    "warnings.filterwarnings('ignore')\n",
    "pd.set_option('display.max_columns',None)"
   ]
  },
  {
   "cell_type": "code",
   "execution_count": 2,
   "metadata": {},
   "outputs": [
    {
     "data": {
      "text/html": [
       "<div>\n",
       "<style scoped>\n",
       "    .dataframe tbody tr th:only-of-type {\n",
       "        vertical-align: middle;\n",
       "    }\n",
       "\n",
       "    .dataframe tbody tr th {\n",
       "        vertical-align: top;\n",
       "    }\n",
       "\n",
       "    .dataframe thead th {\n",
       "        text-align: right;\n",
       "    }\n",
       "</style>\n",
       "<table border=\"1\" class=\"dataframe\">\n",
       "  <thead>\n",
       "    <tr style=\"text-align: right;\">\n",
       "      <th></th>\n",
       "      <th>Gender</th>\n",
       "      <th>Age</th>\n",
       "      <th>Education Level</th>\n",
       "      <th>Institution Type</th>\n",
       "      <th>IT Student</th>\n",
       "      <th>Location</th>\n",
       "      <th>Load-shedding</th>\n",
       "      <th>Financial Condition</th>\n",
       "      <th>Internet Type</th>\n",
       "      <th>Network Type</th>\n",
       "      <th>Class Duration</th>\n",
       "      <th>Self Lms</th>\n",
       "      <th>Device</th>\n",
       "      <th>Adaptivity Level</th>\n",
       "    </tr>\n",
       "  </thead>\n",
       "  <tbody>\n",
       "    <tr>\n",
       "      <th>0</th>\n",
       "      <td>Boy</td>\n",
       "      <td>21-25</td>\n",
       "      <td>University</td>\n",
       "      <td>Non Government</td>\n",
       "      <td>No</td>\n",
       "      <td>Yes</td>\n",
       "      <td>Low</td>\n",
       "      <td>Mid</td>\n",
       "      <td>Wifi</td>\n",
       "      <td>4G</td>\n",
       "      <td>6-Mar</td>\n",
       "      <td>No</td>\n",
       "      <td>Tab</td>\n",
       "      <td>Moderate</td>\n",
       "    </tr>\n",
       "    <tr>\n",
       "      <th>1</th>\n",
       "      <td>Girl</td>\n",
       "      <td>21-25</td>\n",
       "      <td>University</td>\n",
       "      <td>Non Government</td>\n",
       "      <td>No</td>\n",
       "      <td>Yes</td>\n",
       "      <td>High</td>\n",
       "      <td>Mid</td>\n",
       "      <td>Mobile Data</td>\n",
       "      <td>4G</td>\n",
       "      <td>3-Jan</td>\n",
       "      <td>Yes</td>\n",
       "      <td>Mobile</td>\n",
       "      <td>Moderate</td>\n",
       "    </tr>\n",
       "    <tr>\n",
       "      <th>2</th>\n",
       "      <td>Girl</td>\n",
       "      <td>16-20</td>\n",
       "      <td>College</td>\n",
       "      <td>Government</td>\n",
       "      <td>No</td>\n",
       "      <td>Yes</td>\n",
       "      <td>Low</td>\n",
       "      <td>Mid</td>\n",
       "      <td>Wifi</td>\n",
       "      <td>4G</td>\n",
       "      <td>3-Jan</td>\n",
       "      <td>No</td>\n",
       "      <td>Mobile</td>\n",
       "      <td>Moderate</td>\n",
       "    </tr>\n",
       "    <tr>\n",
       "      <th>3</th>\n",
       "      <td>Girl</td>\n",
       "      <td>15-Nov</td>\n",
       "      <td>School</td>\n",
       "      <td>Non Government</td>\n",
       "      <td>No</td>\n",
       "      <td>Yes</td>\n",
       "      <td>Low</td>\n",
       "      <td>Mid</td>\n",
       "      <td>Mobile Data</td>\n",
       "      <td>4G</td>\n",
       "      <td>3-Jan</td>\n",
       "      <td>No</td>\n",
       "      <td>Mobile</td>\n",
       "      <td>Moderate</td>\n",
       "    </tr>\n",
       "    <tr>\n",
       "      <th>4</th>\n",
       "      <td>Girl</td>\n",
       "      <td>16-20</td>\n",
       "      <td>School</td>\n",
       "      <td>Non Government</td>\n",
       "      <td>No</td>\n",
       "      <td>Yes</td>\n",
       "      <td>Low</td>\n",
       "      <td>Poor</td>\n",
       "      <td>Mobile Data</td>\n",
       "      <td>3G</td>\n",
       "      <td>0</td>\n",
       "      <td>No</td>\n",
       "      <td>Mobile</td>\n",
       "      <td>Low</td>\n",
       "    </tr>\n",
       "    <tr>\n",
       "      <th>...</th>\n",
       "      <td>...</td>\n",
       "      <td>...</td>\n",
       "      <td>...</td>\n",
       "      <td>...</td>\n",
       "      <td>...</td>\n",
       "      <td>...</td>\n",
       "      <td>...</td>\n",
       "      <td>...</td>\n",
       "      <td>...</td>\n",
       "      <td>...</td>\n",
       "      <td>...</td>\n",
       "      <td>...</td>\n",
       "      <td>...</td>\n",
       "      <td>...</td>\n",
       "    </tr>\n",
       "    <tr>\n",
       "      <th>1208</th>\n",
       "      <td>Girl</td>\n",
       "      <td>16-20</td>\n",
       "      <td>College</td>\n",
       "      <td>Non Government</td>\n",
       "      <td>No</td>\n",
       "      <td>Yes</td>\n",
       "      <td>Low</td>\n",
       "      <td>Mid</td>\n",
       "      <td>Wifi</td>\n",
       "      <td>4G</td>\n",
       "      <td>3-Jan</td>\n",
       "      <td>No</td>\n",
       "      <td>Mobile</td>\n",
       "      <td>Low</td>\n",
       "    </tr>\n",
       "    <tr>\n",
       "      <th>1209</th>\n",
       "      <td>Girl</td>\n",
       "      <td>16-20</td>\n",
       "      <td>College</td>\n",
       "      <td>Non Government</td>\n",
       "      <td>No</td>\n",
       "      <td>No</td>\n",
       "      <td>High</td>\n",
       "      <td>Mid</td>\n",
       "      <td>Wifi</td>\n",
       "      <td>4G</td>\n",
       "      <td>6-Mar</td>\n",
       "      <td>No</td>\n",
       "      <td>Mobile</td>\n",
       "      <td>Moderate</td>\n",
       "    </tr>\n",
       "    <tr>\n",
       "      <th>1210</th>\n",
       "      <td>Boy</td>\n",
       "      <td>15-Nov</td>\n",
       "      <td>School</td>\n",
       "      <td>Non Government</td>\n",
       "      <td>No</td>\n",
       "      <td>Yes</td>\n",
       "      <td>Low</td>\n",
       "      <td>Mid</td>\n",
       "      <td>Mobile Data</td>\n",
       "      <td>3G</td>\n",
       "      <td>3-Jan</td>\n",
       "      <td>No</td>\n",
       "      <td>Mobile</td>\n",
       "      <td>Moderate</td>\n",
       "    </tr>\n",
       "    <tr>\n",
       "      <th>1211</th>\n",
       "      <td>Girl</td>\n",
       "      <td>16-20</td>\n",
       "      <td>College</td>\n",
       "      <td>Non Government</td>\n",
       "      <td>No</td>\n",
       "      <td>No</td>\n",
       "      <td>Low</td>\n",
       "      <td>Mid</td>\n",
       "      <td>Wifi</td>\n",
       "      <td>4G</td>\n",
       "      <td>3-Jan</td>\n",
       "      <td>No</td>\n",
       "      <td>Mobile</td>\n",
       "      <td>Low</td>\n",
       "    </tr>\n",
       "    <tr>\n",
       "      <th>1212</th>\n",
       "      <td>Girl</td>\n",
       "      <td>15-Nov</td>\n",
       "      <td>School</td>\n",
       "      <td>Non Government</td>\n",
       "      <td>No</td>\n",
       "      <td>Yes</td>\n",
       "      <td>Low</td>\n",
       "      <td>Poor</td>\n",
       "      <td>Mobile Data</td>\n",
       "      <td>3G</td>\n",
       "      <td>3-Jan</td>\n",
       "      <td>No</td>\n",
       "      <td>Mobile</td>\n",
       "      <td>Moderate</td>\n",
       "    </tr>\n",
       "  </tbody>\n",
       "</table>\n",
       "<p>1213 rows × 14 columns</p>\n",
       "</div>"
      ],
      "text/plain": [
       "     Gender     Age Education Level Institution Type IT Student Location  \\\n",
       "0       Boy   21-25      University   Non Government         No      Yes   \n",
       "1      Girl   21-25      University   Non Government         No      Yes   \n",
       "2      Girl   16-20         College       Government         No      Yes   \n",
       "3      Girl  15-Nov          School   Non Government         No      Yes   \n",
       "4      Girl   16-20          School   Non Government         No      Yes   \n",
       "...     ...     ...             ...              ...        ...      ...   \n",
       "1208   Girl   16-20         College   Non Government         No      Yes   \n",
       "1209   Girl   16-20         College   Non Government         No       No   \n",
       "1210    Boy  15-Nov          School   Non Government         No      Yes   \n",
       "1211   Girl   16-20         College   Non Government         No       No   \n",
       "1212   Girl  15-Nov          School   Non Government         No      Yes   \n",
       "\n",
       "     Load-shedding Financial Condition Internet Type Network Type  \\\n",
       "0              Low                 Mid          Wifi           4G   \n",
       "1             High                 Mid   Mobile Data           4G   \n",
       "2              Low                 Mid          Wifi           4G   \n",
       "3              Low                 Mid   Mobile Data           4G   \n",
       "4              Low                Poor   Mobile Data           3G   \n",
       "...            ...                 ...           ...          ...   \n",
       "1208           Low                 Mid          Wifi           4G   \n",
       "1209          High                 Mid          Wifi           4G   \n",
       "1210           Low                 Mid   Mobile Data           3G   \n",
       "1211           Low                 Mid          Wifi           4G   \n",
       "1212           Low                Poor   Mobile Data           3G   \n",
       "\n",
       "     Class Duration Self Lms  Device Adaptivity Level  \n",
       "0             6-Mar       No     Tab         Moderate  \n",
       "1             3-Jan      Yes  Mobile         Moderate  \n",
       "2             3-Jan       No  Mobile         Moderate  \n",
       "3             3-Jan       No  Mobile         Moderate  \n",
       "4                 0       No  Mobile              Low  \n",
       "...             ...      ...     ...              ...  \n",
       "1208          3-Jan       No  Mobile              Low  \n",
       "1209          6-Mar       No  Mobile         Moderate  \n",
       "1210          3-Jan       No  Mobile         Moderate  \n",
       "1211          3-Jan       No  Mobile              Low  \n",
       "1212          3-Jan       No  Mobile         Moderate  \n",
       "\n",
       "[1213 rows x 14 columns]"
      ]
     },
     "execution_count": 2,
     "metadata": {},
     "output_type": "execute_result"
    }
   ],
   "source": [
    "s=pd.read_csv(r'C:\\Users\\Lenovo\\Downloads\\students_adaptability_level_online_education.csv',header=0) # IT IS USED TO ACCESS THE FILE\n",
    "s"
   ]
  },
  {
   "cell_type": "code",
   "execution_count": 3,
   "metadata": {},
   "outputs": [
    {
     "data": {
      "text/plain": [
       "(1213, 14)"
      ]
     },
     "execution_count": 3,
     "metadata": {},
     "output_type": "execute_result"
    }
   ],
   "source": [
    "s.shape  # it tells about how many rows and columns are present"
   ]
  },
  {
   "cell_type": "code",
   "execution_count": 4,
   "metadata": {},
   "outputs": [
    {
     "data": {
      "text/html": [
       "<div>\n",
       "<style scoped>\n",
       "    .dataframe tbody tr th:only-of-type {\n",
       "        vertical-align: middle;\n",
       "    }\n",
       "\n",
       "    .dataframe tbody tr th {\n",
       "        vertical-align: top;\n",
       "    }\n",
       "\n",
       "    .dataframe thead th {\n",
       "        text-align: right;\n",
       "    }\n",
       "</style>\n",
       "<table border=\"1\" class=\"dataframe\">\n",
       "  <thead>\n",
       "    <tr style=\"text-align: right;\">\n",
       "      <th></th>\n",
       "      <th>Gender</th>\n",
       "      <th>Age</th>\n",
       "      <th>Education Level</th>\n",
       "      <th>Institution Type</th>\n",
       "      <th>IT Student</th>\n",
       "      <th>Location</th>\n",
       "      <th>Load-shedding</th>\n",
       "      <th>Financial Condition</th>\n",
       "      <th>Internet Type</th>\n",
       "      <th>Network Type</th>\n",
       "      <th>Class Duration</th>\n",
       "      <th>Self Lms</th>\n",
       "      <th>Device</th>\n",
       "      <th>Adaptivity Level</th>\n",
       "    </tr>\n",
       "  </thead>\n",
       "  <tbody>\n",
       "    <tr>\n",
       "      <th>count</th>\n",
       "      <td>1211</td>\n",
       "      <td>1213</td>\n",
       "      <td>1213</td>\n",
       "      <td>1213</td>\n",
       "      <td>1213</td>\n",
       "      <td>1213</td>\n",
       "      <td>1213</td>\n",
       "      <td>1211</td>\n",
       "      <td>1213</td>\n",
       "      <td>1213</td>\n",
       "      <td>1213</td>\n",
       "      <td>1213</td>\n",
       "      <td>1209</td>\n",
       "      <td>1213</td>\n",
       "    </tr>\n",
       "    <tr>\n",
       "      <th>unique</th>\n",
       "      <td>2</td>\n",
       "      <td>6</td>\n",
       "      <td>3</td>\n",
       "      <td>2</td>\n",
       "      <td>2</td>\n",
       "      <td>2</td>\n",
       "      <td>2</td>\n",
       "      <td>3</td>\n",
       "      <td>2</td>\n",
       "      <td>3</td>\n",
       "      <td>3</td>\n",
       "      <td>2</td>\n",
       "      <td>3</td>\n",
       "      <td>3</td>\n",
       "    </tr>\n",
       "    <tr>\n",
       "      <th>top</th>\n",
       "      <td>Boy</td>\n",
       "      <td>21-25</td>\n",
       "      <td>School</td>\n",
       "      <td>Non Government</td>\n",
       "      <td>No</td>\n",
       "      <td>Yes</td>\n",
       "      <td>Low</td>\n",
       "      <td>Mid</td>\n",
       "      <td>Mobile Data</td>\n",
       "      <td>4G</td>\n",
       "      <td>3-Jan</td>\n",
       "      <td>No</td>\n",
       "      <td>Mobile</td>\n",
       "      <td>Moderate</td>\n",
       "    </tr>\n",
       "    <tr>\n",
       "      <th>freq</th>\n",
       "      <td>669</td>\n",
       "      <td>376</td>\n",
       "      <td>534</td>\n",
       "      <td>826</td>\n",
       "      <td>909</td>\n",
       "      <td>942</td>\n",
       "      <td>1012</td>\n",
       "      <td>883</td>\n",
       "      <td>701</td>\n",
       "      <td>780</td>\n",
       "      <td>844</td>\n",
       "      <td>1003</td>\n",
       "      <td>1017</td>\n",
       "      <td>630</td>\n",
       "    </tr>\n",
       "  </tbody>\n",
       "</table>\n",
       "</div>"
      ],
      "text/plain": [
       "       Gender    Age Education Level Institution Type IT Student Location  \\\n",
       "count    1211   1213            1213             1213       1213     1213   \n",
       "unique      2      6               3                2          2        2   \n",
       "top       Boy  21-25          School   Non Government         No      Yes   \n",
       "freq      669    376             534              826        909      942   \n",
       "\n",
       "       Load-shedding Financial Condition Internet Type Network Type  \\\n",
       "count           1213                1211          1213         1213   \n",
       "unique             2                   3             2            3   \n",
       "top              Low                 Mid   Mobile Data           4G   \n",
       "freq            1012                 883           701          780   \n",
       "\n",
       "       Class Duration Self Lms  Device Adaptivity Level  \n",
       "count            1213     1213    1209             1213  \n",
       "unique              3        2       3                3  \n",
       "top             3-Jan       No  Mobile         Moderate  \n",
       "freq              844     1003    1017              630  "
      ]
     },
     "execution_count": 4,
     "metadata": {},
     "output_type": "execute_result"
    }
   ],
   "source": [
    "s.describe() "
   ]
  },
  {
   "cell_type": "code",
   "execution_count": 5,
   "metadata": {},
   "outputs": [],
   "source": [
    "# describe method tells about the statistics value of the data and by looking to it we can make some conclusion ,\n",
    "# here we can see that the count of the given statistical columns are same so we can say that there is  missing values in the given data."
   ]
  },
  {
   "cell_type": "code",
   "execution_count": 6,
   "metadata": {},
   "outputs": [
    {
     "data": {
      "text/plain": [
       "Gender                 object\n",
       "Age                    object\n",
       "Education Level        object\n",
       "Institution Type       object\n",
       "IT Student             object\n",
       "Location               object\n",
       "Load-shedding          object\n",
       "Financial Condition    object\n",
       "Internet Type          object\n",
       "Network Type           object\n",
       "Class Duration         object\n",
       "Self Lms               object\n",
       "Device                 object\n",
       "Adaptivity Level       object\n",
       "dtype: object"
      ]
     },
     "execution_count": 6,
     "metadata": {},
     "output_type": "execute_result"
    }
   ],
   "source": [
    "s.dtypes"
   ]
  },
  {
   "cell_type": "code",
   "execution_count": 7,
   "metadata": {},
   "outputs": [
    {
     "data": {
      "text/plain": [
       "Gender                 2\n",
       "Age                    0\n",
       "Education Level        0\n",
       "Institution Type       0\n",
       "IT Student             0\n",
       "Location               0\n",
       "Load-shedding          0\n",
       "Financial Condition    2\n",
       "Internet Type          0\n",
       "Network Type           0\n",
       "Class Duration         0\n",
       "Self Lms               0\n",
       "Device                 4\n",
       "Adaptivity Level       0\n",
       "dtype: int64"
      ]
     },
     "execution_count": 7,
     "metadata": {},
     "output_type": "execute_result"
    }
   ],
   "source": [
    "s.isnull().sum()  # it will tells us about the missing values in the data"
   ]
  },
  {
   "cell_type": "code",
   "execution_count": 8,
   "metadata": {},
   "outputs": [],
   "source": [
    "s.dropna(inplace=True)    # here we droping the missing values"
   ]
  },
  {
   "cell_type": "code",
   "execution_count": 9,
   "metadata": {},
   "outputs": [
    {
     "name": "stdout",
     "output_type": "stream",
     "text": [
      "{'Gender': array(['Boy', 'Girl'], dtype=object)}\n",
      "{'Age': array(['21-25', '16-20', '15-Nov', '26-30', '10-Jun', '5-Jan'],\n",
      "      dtype=object)}\n",
      "{'Education Level': array(['University', 'College', 'School'], dtype=object)}\n",
      "{'Institution Type': array(['Non Government', 'Government'], dtype=object)}\n",
      "{'IT Student': array(['No', 'Yes'], dtype=object)}\n",
      "{'Location': array(['Yes', 'No'], dtype=object)}\n",
      "{'Load-shedding': array(['Low', 'High'], dtype=object)}\n",
      "{'Financial Condition': array(['Mid', 'Poor', 'Rich'], dtype=object)}\n",
      "{'Internet Type': array(['Wifi', 'Mobile Data'], dtype=object)}\n",
      "{'Network Type': array(['4G', '3G', '2G'], dtype=object)}\n",
      "{'Class Duration': array(['6-Mar', '3-Jan', '0'], dtype=object)}\n",
      "{'Self Lms': array(['No', 'Yes'], dtype=object)}\n",
      "{'Device': array(['Tab', 'Mobile', 'Computer'], dtype=object)}\n",
      "{'Adaptivity Level': array(['Moderate', 'Low', 'High'], dtype=object)}\n"
     ]
    }
   ],
   "source": [
    "for i in s.columns:          # here we are checking the unique values present in each column\n",
    "    print({i:s[i].unique()})"
   ]
  },
  {
   "cell_type": "code",
   "execution_count": 10,
   "metadata": {},
   "outputs": [],
   "source": [
    "# so after checking unique values we can clearly see there are errors present in class duration ,age columns so we have to rectify that."
   ]
  },
  {
   "cell_type": "code",
   "execution_count": 11,
   "metadata": {},
   "outputs": [],
   "source": [
    "s['Class Duration'].replace({'3-Jan':'1 to 3','6-Mar':'3 to 6'},inplace=True)  # here we are making correction in the data"
   ]
  },
  {
   "cell_type": "code",
   "execution_count": 12,
   "metadata": {},
   "outputs": [],
   "source": [
    "s['Age'].replace({'5-Jan':'1 to 5','10-Jun':'6 to 10','15-Nov':'11 to 15'},inplace=True)"
   ]
  },
  {
   "cell_type": "code",
   "execution_count": 13,
   "metadata": {},
   "outputs": [],
   "source": [
    "import matplotlib.pyplot as mp   # these are the library used for data visualization\n",
    "import seaborn as sb       "
   ]
  },
  {
   "cell_type": "code",
   "execution_count": 14,
   "metadata": {},
   "outputs": [
    {
     "data": {
      "text/plain": [
       "<matplotlib.legend.Legend at 0x25b58c2a408>"
      ]
     },
     "execution_count": 14,
     "metadata": {},
     "output_type": "execute_result"
    },
    {
     "data": {
      "image/png": "[encoded data removed]",
      "text/plain": [
       "<Figure size 1080x720 with 1 Axes>"
      ]
     },
     "metadata": {},
     "output_type": "display_data"
    }
   ],
   "source": [
    "mp.figure(figsize=(15,10))\n",
    "s['Adaptivity Level'].value_counts().plot.pie(startangle=90,autopct='%1.2f%%')\n",
    "mp.legend()"
   ]
  },
  {
   "cell_type": "code",
   "execution_count": 15,
   "metadata": {},
   "outputs": [],
   "source": [
    "# we can clearly see that there are three levels present high, moderate,low and almost 90 % od data belongs two class moderate and low"
   ]
  },
  {
   "cell_type": "code",
   "execution_count": 16,
   "metadata": {},
   "outputs": [
    {
     "data": {
      "text/plain": [
       "<matplotlib.axes._subplots.AxesSubplot at 0x25b5afa5a48>"
      ]
     },
     "execution_count": 16,
     "metadata": {},
     "output_type": "execute_result"
    },
    {
     "data": {
      "image/png": "[encoded data removed]",
      "text/plain": [
       "<Figure size 432x288 with 1 Axes>"
      ]
     },
     "metadata": {
      "needs_background": "light"
     },
     "output_type": "display_data"
    }
   ],
   "source": [
    "sb.countplot(x='Institution Type',data=s)\n"
   ]
  },
  {
   "cell_type": "code",
   "execution_count": 17,
   "metadata": {},
   "outputs": [],
   "source": [
    "# we can see that most of the data points belongs to non government institute"
   ]
  },
  {
   "cell_type": "code",
   "execution_count": 18,
   "metadata": {},
   "outputs": [
    {
     "data": {
      "text/plain": [
       "<matplotlib.axes._subplots.AxesSubplot at 0x25b5b07a248>"
      ]
     },
     "execution_count": 18,
     "metadata": {},
     "output_type": "execute_result"
    },
    {
     "data": {
      "image/png": "[encoded data removed]",
      "text/plain": [
       "<Figure size 432x288 with 1 Axes>"
      ]
     },
     "metadata": {
      "needs_background": "light"
     },
     "output_type": "display_data"
    }
   ],
   "source": [
    "sb.countplot(x='Age',data=s)"
   ]
  },
  {
   "cell_type": "code",
   "execution_count": 19,
   "metadata": {},
   "outputs": [],
   "source": [
    "# we can see the age of most of the data points is betn 11 to 25"
   ]
  },
  {
   "cell_type": "code",
   "execution_count": 20,
   "metadata": {},
   "outputs": [
    {
     "data": {
      "text/plain": [
       "<matplotlib.axes._subplots.AxesSubplot at 0x25b5b0ff248>"
      ]
     },
     "execution_count": 20,
     "metadata": {},
     "output_type": "execute_result"
    },
    {
     "data": {
      "image/png": "[encoded data removed]",
      "text/plain": [
       "<Figure size 432x288 with 1 Axes>"
      ]
     },
     "metadata": {
      "needs_background": "light"
     },
     "output_type": "display_data"
    }
   ],
   "source": [
    "sb.countplot(x='Gender',data=s)"
   ]
  },
  {
   "cell_type": "code",
   "execution_count": 21,
   "metadata": {},
   "outputs": [],
   "source": [
    "# we have almost equal data points of both boys and girls"
   ]
  },
  {
   "cell_type": "code",
   "execution_count": 22,
   "metadata": {},
   "outputs": [
    {
     "data": {
      "text/plain": [
       "<matplotlib.axes._subplots.AxesSubplot at 0x25b5b15e688>"
      ]
     },
     "execution_count": 22,
     "metadata": {},
     "output_type": "execute_result"
    },
    {
     "data": {
      "image/png": "[encoded data removed]",
      "text/plain": [
       "<Figure size 432x288 with 1 Axes>"
      ]
     },
     "metadata": {
      "needs_background": "light"
     },
     "output_type": "display_data"
    }
   ],
   "source": [
    "sb.countplot(x='Device',data=s)"
   ]
  },
  {
   "cell_type": "code",
   "execution_count": 23,
   "metadata": {},
   "outputs": [],
   "source": [
    "# most of the student are using mobile device so it is not going to help in training the model so we can drop this column"
   ]
  },
  {
   "cell_type": "code",
   "execution_count": 24,
   "metadata": {},
   "outputs": [
    {
     "data": {
      "text/html": [
       "<div>\n",
       "<style scoped>\n",
       "    .dataframe tbody tr th:only-of-type {\n",
       "        vertical-align: middle;\n",
       "    }\n",
       "\n",
       "    .dataframe tbody tr th {\n",
       "        vertical-align: top;\n",
       "    }\n",
       "\n",
       "    .dataframe thead th {\n",
       "        text-align: right;\n",
       "    }\n",
       "</style>\n",
       "<table border=\"1\" class=\"dataframe\">\n",
       "  <thead>\n",
       "    <tr style=\"text-align: right;\">\n",
       "      <th>Gender</th>\n",
       "      <th>Boy</th>\n",
       "      <th>Girl</th>\n",
       "      <th>Total</th>\n",
       "    </tr>\n",
       "    <tr>\n",
       "      <th>Adaptivity Level</th>\n",
       "      <th></th>\n",
       "      <th></th>\n",
       "      <th></th>\n",
       "    </tr>\n",
       "  </thead>\n",
       "  <tbody>\n",
       "    <tr>\n",
       "      <th>High</th>\n",
       "      <td>71</td>\n",
       "      <td>29</td>\n",
       "      <td>100</td>\n",
       "    </tr>\n",
       "    <tr>\n",
       "      <th>Low</th>\n",
       "      <td>245</td>\n",
       "      <td>235</td>\n",
       "      <td>480</td>\n",
       "    </tr>\n",
       "    <tr>\n",
       "      <th>Moderate</th>\n",
       "      <td>347</td>\n",
       "      <td>278</td>\n",
       "      <td>625</td>\n",
       "    </tr>\n",
       "    <tr>\n",
       "      <th>Total</th>\n",
       "      <td>663</td>\n",
       "      <td>542</td>\n",
       "      <td>1205</td>\n",
       "    </tr>\n",
       "  </tbody>\n",
       "</table>\n",
       "</div>"
      ],
      "text/plain": [
       "Gender            Boy  Girl  Total\n",
       "Adaptivity Level                  \n",
       "High               71    29    100\n",
       "Low               245   235    480\n",
       "Moderate          347   278    625\n",
       "Total             663   542   1205"
      ]
     },
     "execution_count": 24,
     "metadata": {},
     "output_type": "execute_result"
    }
   ],
   "source": [
    "pd.crosstab(s['Adaptivity Level'],s['Gender'],margins=True,margins_name='Total') #A crosstab is a tabular representation of data that shows the relationship between two or more variables."
   ]
  },
  {
   "cell_type": "code",
   "execution_count": 25,
   "metadata": {},
   "outputs": [],
   "source": [
    "# From these we can say that boys adaptive level are high as compared to girls "
   ]
  },
  {
   "cell_type": "code",
   "execution_count": 26,
   "metadata": {},
   "outputs": [
    {
     "data": {
      "text/html": [
       "<div>\n",
       "<style scoped>\n",
       "    .dataframe tbody tr th:only-of-type {\n",
       "        vertical-align: middle;\n",
       "    }\n",
       "\n",
       "    .dataframe tbody tr th {\n",
       "        vertical-align: top;\n",
       "    }\n",
       "\n",
       "    .dataframe thead th {\n",
       "        text-align: right;\n",
       "    }\n",
       "</style>\n",
       "<table border=\"1\" class=\"dataframe\">\n",
       "  <thead>\n",
       "    <tr style=\"text-align: right;\">\n",
       "      <th>Financial Condition</th>\n",
       "      <th>Mid</th>\n",
       "      <th>Poor</th>\n",
       "      <th>Rich</th>\n",
       "      <th>Total</th>\n",
       "    </tr>\n",
       "    <tr>\n",
       "      <th>Adaptivity Level</th>\n",
       "      <th></th>\n",
       "      <th></th>\n",
       "      <th></th>\n",
       "      <th></th>\n",
       "    </tr>\n",
       "  </thead>\n",
       "  <tbody>\n",
       "    <tr>\n",
       "      <th>High</th>\n",
       "      <td>36</td>\n",
       "      <td>22</td>\n",
       "      <td>42</td>\n",
       "      <td>100</td>\n",
       "    </tr>\n",
       "    <tr>\n",
       "      <th>Low</th>\n",
       "      <td>341</td>\n",
       "      <td>129</td>\n",
       "      <td>10</td>\n",
       "      <td>480</td>\n",
       "    </tr>\n",
       "    <tr>\n",
       "      <th>Moderate</th>\n",
       "      <td>501</td>\n",
       "      <td>91</td>\n",
       "      <td>33</td>\n",
       "      <td>625</td>\n",
       "    </tr>\n",
       "    <tr>\n",
       "      <th>Total</th>\n",
       "      <td>878</td>\n",
       "      <td>242</td>\n",
       "      <td>85</td>\n",
       "      <td>1205</td>\n",
       "    </tr>\n",
       "  </tbody>\n",
       "</table>\n",
       "</div>"
      ],
      "text/plain": [
       "Financial Condition  Mid  Poor  Rich  Total\n",
       "Adaptivity Level                           \n",
       "High                  36    22    42    100\n",
       "Low                  341   129    10    480\n",
       "Moderate             501    91    33    625\n",
       "Total                878   242    85   1205"
      ]
     },
     "execution_count": 26,
     "metadata": {},
     "output_type": "execute_result"
    }
   ],
   "source": [
    "pd.crosstab(s['Adaptivity Level'],s['Financial Condition'],margins=True,margins_name='Total')"
   ]
  },
  {
   "cell_type": "code",
   "execution_count": 27,
   "metadata": {},
   "outputs": [],
   "source": [
    "# From these we can say that financial condition creates a difference in adaptive level bcoz adaptive level of rich is quite good"
   ]
  },
  {
   "cell_type": "code",
   "execution_count": 28,
   "metadata": {},
   "outputs": [
    {
     "data": {
      "text/html": [
       "<div>\n",
       "<style scoped>\n",
       "    .dataframe tbody tr th:only-of-type {\n",
       "        vertical-align: middle;\n",
       "    }\n",
       "\n",
       "    .dataframe tbody tr th {\n",
       "        vertical-align: top;\n",
       "    }\n",
       "\n",
       "    .dataframe thead th {\n",
       "        text-align: right;\n",
       "    }\n",
       "</style>\n",
       "<table border=\"1\" class=\"dataframe\">\n",
       "  <thead>\n",
       "    <tr style=\"text-align: right;\">\n",
       "      <th>IT Student</th>\n",
       "      <th>No</th>\n",
       "      <th>Yes</th>\n",
       "      <th>Total</th>\n",
       "    </tr>\n",
       "    <tr>\n",
       "      <th>Adaptivity Level</th>\n",
       "      <th></th>\n",
       "      <th></th>\n",
       "      <th></th>\n",
       "    </tr>\n",
       "  </thead>\n",
       "  <tbody>\n",
       "    <tr>\n",
       "      <th>High</th>\n",
       "      <td>67</td>\n",
       "      <td>33</td>\n",
       "      <td>100</td>\n",
       "    </tr>\n",
       "    <tr>\n",
       "      <th>Low</th>\n",
       "      <td>391</td>\n",
       "      <td>89</td>\n",
       "      <td>480</td>\n",
       "    </tr>\n",
       "    <tr>\n",
       "      <th>Moderate</th>\n",
       "      <td>443</td>\n",
       "      <td>182</td>\n",
       "      <td>625</td>\n",
       "    </tr>\n",
       "    <tr>\n",
       "      <th>Total</th>\n",
       "      <td>901</td>\n",
       "      <td>304</td>\n",
       "      <td>1205</td>\n",
       "    </tr>\n",
       "  </tbody>\n",
       "</table>\n",
       "</div>"
      ],
      "text/plain": [
       "IT Student         No  Yes  Total\n",
       "Adaptivity Level                 \n",
       "High               67   33    100\n",
       "Low               391   89    480\n",
       "Moderate          443  182    625\n",
       "Total             901  304   1205"
      ]
     },
     "execution_count": 28,
     "metadata": {},
     "output_type": "execute_result"
    }
   ],
   "source": [
    "pd.crosstab(s['Adaptivity Level'],s['IT Student'],margins=True,margins_name='Total')"
   ]
  },
  {
   "cell_type": "code",
   "execution_count": 29,
   "metadata": {},
   "outputs": [],
   "source": [
    "# From these we can say that IT STUDENT creates a difference in adaptive level bcoz adaptive level of IT STUDENT is quite good"
   ]
  },
  {
   "cell_type": "code",
   "execution_count": 30,
   "metadata": {},
   "outputs": [
    {
     "data": {
      "text/html": [
       "<div>\n",
       "<style scoped>\n",
       "    .dataframe tbody tr th:only-of-type {\n",
       "        vertical-align: middle;\n",
       "    }\n",
       "\n",
       "    .dataframe tbody tr th {\n",
       "        vertical-align: top;\n",
       "    }\n",
       "\n",
       "    .dataframe thead th {\n",
       "        text-align: right;\n",
       "    }\n",
       "</style>\n",
       "<table border=\"1\" class=\"dataframe\">\n",
       "  <thead>\n",
       "    <tr style=\"text-align: right;\">\n",
       "      <th>Load-shedding</th>\n",
       "      <th>High</th>\n",
       "      <th>Low</th>\n",
       "      <th>Total</th>\n",
       "    </tr>\n",
       "    <tr>\n",
       "      <th>Adaptivity Level</th>\n",
       "      <th></th>\n",
       "      <th></th>\n",
       "      <th></th>\n",
       "    </tr>\n",
       "  </thead>\n",
       "  <tbody>\n",
       "    <tr>\n",
       "      <th>High</th>\n",
       "      <td>13</td>\n",
       "      <td>87</td>\n",
       "      <td>100</td>\n",
       "    </tr>\n",
       "    <tr>\n",
       "      <th>Low</th>\n",
       "      <td>100</td>\n",
       "      <td>380</td>\n",
       "      <td>480</td>\n",
       "    </tr>\n",
       "    <tr>\n",
       "      <th>Moderate</th>\n",
       "      <td>88</td>\n",
       "      <td>537</td>\n",
       "      <td>625</td>\n",
       "    </tr>\n",
       "    <tr>\n",
       "      <th>Total</th>\n",
       "      <td>201</td>\n",
       "      <td>1004</td>\n",
       "      <td>1205</td>\n",
       "    </tr>\n",
       "  </tbody>\n",
       "</table>\n",
       "</div>"
      ],
      "text/plain": [
       "Load-shedding     High   Low  Total\n",
       "Adaptivity Level                   \n",
       "High                13    87    100\n",
       "Low                100   380    480\n",
       "Moderate            88   537    625\n",
       "Total              201  1004   1205"
      ]
     },
     "execution_count": 30,
     "metadata": {},
     "output_type": "execute_result"
    }
   ],
   "source": [
    "pd.crosstab(s['Adaptivity Level'],s['Load-shedding'],margins=True,margins_name='Total')"
   ]
  },
  {
   "cell_type": "code",
   "execution_count": 31,
   "metadata": {},
   "outputs": [],
   "source": [
    "# From these we can say that Load-shedding  creates a difference in adaptive level bcoz adaptive level of student where load shedding is low is quite good"
   ]
  },
  {
   "cell_type": "code",
   "execution_count": 32,
   "metadata": {},
   "outputs": [
    {
     "data": {
      "text/html": [
       "<div>\n",
       "<style scoped>\n",
       "    .dataframe tbody tr th:only-of-type {\n",
       "        vertical-align: middle;\n",
       "    }\n",
       "\n",
       "    .dataframe tbody tr th {\n",
       "        vertical-align: top;\n",
       "    }\n",
       "\n",
       "    .dataframe thead tr th {\n",
       "        text-align: left;\n",
       "    }\n",
       "\n",
       "    .dataframe thead tr:last-of-type th {\n",
       "        text-align: right;\n",
       "    }\n",
       "</style>\n",
       "<table border=\"1\" class=\"dataframe\">\n",
       "  <thead>\n",
       "    <tr>\n",
       "      <th>Age</th>\n",
       "      <th>1 to 5</th>\n",
       "      <th>11 to 15</th>\n",
       "      <th colspan=\"3\" halign=\"left\">16-20</th>\n",
       "      <th colspan=\"2\" halign=\"left\">21-25</th>\n",
       "      <th>26-30</th>\n",
       "      <th>6 to 10</th>\n",
       "      <th>Total</th>\n",
       "    </tr>\n",
       "    <tr>\n",
       "      <th>Education Level</th>\n",
       "      <th>School</th>\n",
       "      <th>School</th>\n",
       "      <th>College</th>\n",
       "      <th>School</th>\n",
       "      <th>University</th>\n",
       "      <th>College</th>\n",
       "      <th>University</th>\n",
       "      <th>University</th>\n",
       "      <th>School</th>\n",
       "      <th></th>\n",
       "    </tr>\n",
       "    <tr>\n",
       "      <th>Adaptivity Level</th>\n",
       "      <th></th>\n",
       "      <th></th>\n",
       "      <th></th>\n",
       "      <th></th>\n",
       "      <th></th>\n",
       "      <th></th>\n",
       "      <th></th>\n",
       "      <th></th>\n",
       "      <th></th>\n",
       "      <th></th>\n",
       "    </tr>\n",
       "  </thead>\n",
       "  <tbody>\n",
       "    <tr>\n",
       "      <th>High</th>\n",
       "      <td>0</td>\n",
       "      <td>28</td>\n",
       "      <td>3</td>\n",
       "      <td>2</td>\n",
       "      <td>0</td>\n",
       "      <td>0</td>\n",
       "      <td>38</td>\n",
       "      <td>12</td>\n",
       "      <td>17</td>\n",
       "      <td>100</td>\n",
       "    </tr>\n",
       "    <tr>\n",
       "      <th>Low</th>\n",
       "      <td>17</td>\n",
       "      <td>120</td>\n",
       "      <td>106</td>\n",
       "      <td>21</td>\n",
       "      <td>17</td>\n",
       "      <td>14</td>\n",
       "      <td>125</td>\n",
       "      <td>36</td>\n",
       "      <td>24</td>\n",
       "      <td>480</td>\n",
       "    </tr>\n",
       "    <tr>\n",
       "      <th>Moderate</th>\n",
       "      <td>64</td>\n",
       "      <td>205</td>\n",
       "      <td>88</td>\n",
       "      <td>22</td>\n",
       "      <td>19</td>\n",
       "      <td>8</td>\n",
       "      <td>189</td>\n",
       "      <td>20</td>\n",
       "      <td>10</td>\n",
       "      <td>625</td>\n",
       "    </tr>\n",
       "    <tr>\n",
       "      <th>Total</th>\n",
       "      <td>81</td>\n",
       "      <td>353</td>\n",
       "      <td>197</td>\n",
       "      <td>45</td>\n",
       "      <td>36</td>\n",
       "      <td>22</td>\n",
       "      <td>352</td>\n",
       "      <td>68</td>\n",
       "      <td>51</td>\n",
       "      <td>1205</td>\n",
       "    </tr>\n",
       "  </tbody>\n",
       "</table>\n",
       "</div>"
      ],
      "text/plain": [
       "Age              1 to 5 11 to 15   16-20                     21-25             \\\n",
       "Education Level  School   School College School University College University   \n",
       "Adaptivity Level                                                                \n",
       "High                  0       28       3      2          0       0         38   \n",
       "Low                  17      120     106     21         17      14        125   \n",
       "Moderate             64      205      88     22         19       8        189   \n",
       "Total                81      353     197     45         36      22        352   \n",
       "\n",
       "Age                   26-30 6 to 10 Total  \n",
       "Education Level  University  School        \n",
       "Adaptivity Level                           \n",
       "High                     12      17   100  \n",
       "Low                      36      24   480  \n",
       "Moderate                 20      10   625  \n",
       "Total                    68      51  1205  "
      ]
     },
     "execution_count": 32,
     "metadata": {},
     "output_type": "execute_result"
    }
   ],
   "source": [
    "a=pd.crosstab(s['Adaptivity Level'],[s['Age'],s['Education Level']],margins=True,margins_name='Total')\n",
    "a"
   ]
  },
  {
   "cell_type": "code",
   "execution_count": 33,
   "metadata": {},
   "outputs": [],
   "source": [
    "s.drop(['Device'],axis=1,inplace=True)"
   ]
  },
  {
   "cell_type": "code",
   "execution_count": 34,
   "metadata": {},
   "outputs": [],
   "source": [
    "# For preprocessing the data\n",
    "from sklearn.preprocessing import LabelEncoder\n",
    "\n",
    "le=LabelEncoder()\n",
    "\n",
    "for x in s:\n",
    "    s[x]=le.fit_transform(s[x])\n",
    "    \"\"\"\n",
    "    le_name_mapping = dict(zip(le.classes_, le.transform(le.classes_)))\n",
    "    print('Feature', x)\n",
    "    print('mapping', le_name_mapping)\n",
    "     \"\"\""
   ]
  },
  {
   "cell_type": "code",
   "execution_count": 35,
   "metadata": {},
   "outputs": [
    {
     "data": {
      "text/html": [
       "<div>\n",
       "<style scoped>\n",
       "    .dataframe tbody tr th:only-of-type {\n",
       "        vertical-align: middle;\n",
       "    }\n",
       "\n",
       "    .dataframe tbody tr th {\n",
       "        vertical-align: top;\n",
       "    }\n",
       "\n",
       "    .dataframe thead th {\n",
       "        text-align: right;\n",
       "    }\n",
       "</style>\n",
       "<table border=\"1\" class=\"dataframe\">\n",
       "  <thead>\n",
       "    <tr style=\"text-align: right;\">\n",
       "      <th></th>\n",
       "      <th>Gender</th>\n",
       "      <th>Age</th>\n",
       "      <th>Education Level</th>\n",
       "      <th>Institution Type</th>\n",
       "      <th>IT Student</th>\n",
       "      <th>Location</th>\n",
       "      <th>Load-shedding</th>\n",
       "      <th>Financial Condition</th>\n",
       "      <th>Internet Type</th>\n",
       "      <th>Network Type</th>\n",
       "      <th>Class Duration</th>\n",
       "      <th>Self Lms</th>\n",
       "      <th>Adaptivity Level</th>\n",
       "    </tr>\n",
       "  </thead>\n",
       "  <tbody>\n",
       "    <tr>\n",
       "      <th>0</th>\n",
       "      <td>0</td>\n",
       "      <td>3</td>\n",
       "      <td>2</td>\n",
       "      <td>1</td>\n",
       "      <td>0</td>\n",
       "      <td>1</td>\n",
       "      <td>1</td>\n",
       "      <td>0</td>\n",
       "      <td>1</td>\n",
       "      <td>2</td>\n",
       "      <td>2</td>\n",
       "      <td>0</td>\n",
       "      <td>2</td>\n",
       "    </tr>\n",
       "    <tr>\n",
       "      <th>1</th>\n",
       "      <td>1</td>\n",
       "      <td>3</td>\n",
       "      <td>2</td>\n",
       "      <td>1</td>\n",
       "      <td>0</td>\n",
       "      <td>1</td>\n",
       "      <td>0</td>\n",
       "      <td>0</td>\n",
       "      <td>0</td>\n",
       "      <td>2</td>\n",
       "      <td>1</td>\n",
       "      <td>1</td>\n",
       "      <td>2</td>\n",
       "    </tr>\n",
       "    <tr>\n",
       "      <th>2</th>\n",
       "      <td>1</td>\n",
       "      <td>2</td>\n",
       "      <td>0</td>\n",
       "      <td>0</td>\n",
       "      <td>0</td>\n",
       "      <td>1</td>\n",
       "      <td>1</td>\n",
       "      <td>0</td>\n",
       "      <td>1</td>\n",
       "      <td>2</td>\n",
       "      <td>1</td>\n",
       "      <td>0</td>\n",
       "      <td>2</td>\n",
       "    </tr>\n",
       "    <tr>\n",
       "      <th>3</th>\n",
       "      <td>1</td>\n",
       "      <td>1</td>\n",
       "      <td>1</td>\n",
       "      <td>1</td>\n",
       "      <td>0</td>\n",
       "      <td>1</td>\n",
       "      <td>1</td>\n",
       "      <td>0</td>\n",
       "      <td>0</td>\n",
       "      <td>2</td>\n",
       "      <td>1</td>\n",
       "      <td>0</td>\n",
       "      <td>2</td>\n",
       "    </tr>\n",
       "    <tr>\n",
       "      <th>4</th>\n",
       "      <td>1</td>\n",
       "      <td>2</td>\n",
       "      <td>1</td>\n",
       "      <td>1</td>\n",
       "      <td>0</td>\n",
       "      <td>1</td>\n",
       "      <td>1</td>\n",
       "      <td>1</td>\n",
       "      <td>0</td>\n",
       "      <td>1</td>\n",
       "      <td>0</td>\n",
       "      <td>0</td>\n",
       "      <td>1</td>\n",
       "    </tr>\n",
       "  </tbody>\n",
       "</table>\n",
       "</div>"
      ],
      "text/plain": [
       "   Gender  Age  Education Level  Institution Type  IT Student  Location  \\\n",
       "0       0    3                2                 1           0         1   \n",
       "1       1    3                2                 1           0         1   \n",
       "2       1    2                0                 0           0         1   \n",
       "3       1    1                1                 1           0         1   \n",
       "4       1    2                1                 1           0         1   \n",
       "\n",
       "   Load-shedding  Financial Condition  Internet Type  Network Type  \\\n",
       "0              1                    0              1             2   \n",
       "1              0                    0              0             2   \n",
       "2              1                    0              1             2   \n",
       "3              1                    0              0             2   \n",
       "4              1                    1              0             1   \n",
       "\n",
       "   Class Duration  Self Lms  Adaptivity Level  \n",
       "0               2         0                 2  \n",
       "1               1         1                 2  \n",
       "2               1         0                 2  \n",
       "3               1         0                 2  \n",
       "4               0         0                 1  "
      ]
     },
     "execution_count": 35,
     "metadata": {},
     "output_type": "execute_result"
    }
   ],
   "source": [
    "s.head()"
   ]
  },
  {
   "cell_type": "code",
   "execution_count": 36,
   "metadata": {},
   "outputs": [
    {
     "data": {
      "text/plain": [
       "Gender                 0\n",
       "Age                    0\n",
       "Education Level        0\n",
       "Institution Type       0\n",
       "IT Student             0\n",
       "Location               0\n",
       "Load-shedding          0\n",
       "Financial Condition    0\n",
       "Internet Type          0\n",
       "Network Type           0\n",
       "Class Duration         0\n",
       "Self Lms               0\n",
       "Adaptivity Level       0\n",
       "dtype: int64"
      ]
     },
     "execution_count": 36,
     "metadata": {},
     "output_type": "execute_result"
    }
   ],
   "source": [
    "s.isnull().sum()"
   ]
  },
  {
   "cell_type": "code",
   "execution_count": 37,
   "metadata": {},
   "outputs": [
    {
     "data": {
      "text/plain": [
       "Gender                 int32\n",
       "Age                    int32\n",
       "Education Level        int32\n",
       "Institution Type       int32\n",
       "IT Student             int32\n",
       "Location               int32\n",
       "Load-shedding          int32\n",
       "Financial Condition    int32\n",
       "Internet Type          int32\n",
       "Network Type           int32\n",
       "Class Duration         int32\n",
       "Self Lms               int32\n",
       "Adaptivity Level       int32\n",
       "dtype: object"
      ]
     },
     "execution_count": 37,
     "metadata": {},
     "output_type": "execute_result"
    }
   ],
   "source": [
    "s.dtypes"
   ]
  },
  {
   "cell_type": "code",
   "execution_count": 38,
   "metadata": {},
   "outputs": [],
   "source": [
    "X=s.values[:,0:-1]\n",
    "Y=s.values[:,-1]"
   ]
  },
  {
   "cell_type": "code",
   "execution_count": 39,
   "metadata": {},
   "outputs": [
    {
     "name": "stdout",
     "output_type": "stream",
     "text": [
      "[[-0.90415498  0.72502676  1.11241884 ...  0.72340921  1.73744858\n",
      "  -0.45940753]\n",
      " [ 1.10600508  0.72502676  1.11241884 ...  0.72340921 -0.08626705\n",
      "   2.17671662]\n",
      " [ 1.10600508 -0.10151746 -1.65713632 ...  0.72340921 -0.08626705\n",
      "  -0.45940753]\n",
      " ...\n",
      " [-0.90415498 -0.92806169 -0.27235874 ... -1.21803422 -0.08626705\n",
      "  -0.45940753]\n",
      " [ 1.10600508 -0.10151746 -1.65713632 ...  0.72340921 -0.08626705\n",
      "  -0.45940753]\n",
      " [ 1.10600508 -0.92806169 -0.27235874 ... -1.21803422 -0.08626705\n",
      "  -0.45940753]]\n"
     ]
    }
   ],
   "source": [
    "from sklearn.preprocessing import StandardScaler  # here we are scaling the data\n",
    "\n",
    "scaler=StandardScaler()\n",
    "\n",
    "scaler.fit(X)\n",
    "\n",
    "X=scaler.transform(X)\n",
    "\n",
    "print(X)"
   ]
  },
  {
   "cell_type": "code",
   "execution_count": 40,
   "metadata": {},
   "outputs": [],
   "source": [
    "from sklearn.model_selection import train_test_split\n",
    "#split the data into test and train\n",
    "X_train,X_test,Y_train,Y_test=train_test_split(X,Y,test_size=0.3,random_state=10)"
   ]
  },
  {
   "cell_type": "code",
   "execution_count": 41,
   "metadata": {},
   "outputs": [
    {
     "name": "stdout",
     "output_type": "stream",
     "text": [
      "(843, 12)\n",
      "(362, 12)\n",
      "(843,)\n",
      "(362,)\n"
     ]
    }
   ],
   "source": [
    "print(X_train.shape)\n",
    "print(X_test.shape)\n",
    "print(Y_train.shape)\n",
    "print(Y_test.shape)"
   ]
  },
  {
   "cell_type": "markdown",
   "metadata": {},
   "source": [
    "# KNN"
   ]
  },
  {
   "cell_type": "code",
   "execution_count": 42,
   "metadata": {},
   "outputs": [
    {
     "name": "stdout",
     "output_type": "stream",
     "text": [
      "[(2, 2), (2, 2), (1, 1), (2, 2), (2, 2), (1, 1), (2, 1), (1, 1), (2, 2), (2, 1), (2, 2), (2, 2), (1, 1), (1, 1), (1, 1), (1, 2), (2, 2), (2, 2), (2, 2), (2, 2), (1, 1), (2, 2), (1, 1), (2, 2), (2, 2), (2, 2), (1, 1), (1, 2), (1, 1), (1, 1), (2, 2), (1, 2), (2, 2), (2, 2), (2, 2), (2, 1), (2, 2), (1, 1), (2, 2), (2, 2), (1, 2), (2, 2), (2, 2), (2, 2), (2, 2), (2, 2), (2, 2), (1, 1), (2, 2), (2, 2), (1, 1), (1, 1), (1, 1), (0, 1), (1, 1), (2, 2), (2, 2), (1, 2), (0, 2), (2, 1), (0, 0), (2, 2), (2, 1), (2, 2), (1, 1), (1, 2), (2, 2), (2, 2), (2, 2), (2, 2), (1, 1), (1, 2), (1, 2), (2, 1), (2, 2), (1, 1), (0, 2), (2, 1), (2, 2), (2, 2), (1, 1), (0, 2), (1, 1), (1, 1), (2, 1), (1, 1), (1, 1), (2, 2), (2, 2), (2, 2), (1, 1), (2, 1), (1, 1), (1, 1), (2, 2), (2, 2), (2, 2), (2, 2), (1, 2), (1, 1), (2, 2), (1, 1), (1, 2), (2, 2), (1, 1), (2, 2), (2, 2), (1, 1), (2, 2), (2, 2), (0, 0), (2, 2), (2, 1), (2, 2), (2, 2), (2, 2), (0, 1), (0, 2), (1, 1), (1, 1), (1, 1), (2, 2), (1, 2), (2, 2), (1, 2), (2, 2), (2, 2), (1, 1), (2, 2), (1, 2), (0, 0), (2, 2), (1, 1), (2, 2), (1, 1), (2, 2), (2, 2), (1, 2), (2, 2), (1, 1), (1, 1), (2, 1), (2, 2), (2, 2), (1, 2), (2, 2), (2, 1), (2, 2), (2, 2), (1, 2), (2, 2), (2, 2), (2, 2), (1, 1), (2, 0), (1, 1), (2, 2), (2, 2), (0, 0), (2, 1), (2, 2), (1, 2), (2, 2), (2, 1), (2, 2), (1, 1), (0, 0), (2, 1), (1, 1), (1, 1), (2, 2), (2, 2), (2, 2), (0, 2), (1, 2), (2, 1), (1, 2), (1, 2), (1, 2), (2, 2), (1, 1), (1, 2), (2, 2), (1, 2), (2, 2), (2, 2), (2, 2), (2, 2), (1, 1), (2, 2), (1, 1), (1, 2), (2, 2), (0, 0), (2, 2), (0, 2), (1, 1), (1, 1), (0, 2), (2, 1), (2, 2), (2, 1), (1, 2), (0, 0), (2, 1), (0, 2), (1, 2), (2, 2), (1, 2), (2, 2), (1, 2), (2, 2), (0, 1), (2, 2), (2, 2), (2, 2), (2, 2), (2, 2), (2, 2), (2, 2), (0, 0), (2, 2), (1, 2), (2, 2), (2, 2), (1, 1), (2, 1), (1, 1), (2, 1), (1, 1), (2, 1), (2, 2), (2, 2), (2, 2), (1, 1), (2, 1), (2, 2), (2, 1), (1, 2), (1, 1), (2, 2), (2, 2), (2, 2), (1, 1), (1, 1), (2, 2), (2, 2), (2, 2), (2, 2), (2, 2), (1, 1), (1, 2), (1, 1), (2, 2), (1, 1), (2, 2), (2, 1), (2, 1), (2, 2), (1, 1), (2, 2), (2, 1), (1, 1), (2, 2), (0, 2), (1, 1), (1, 1), (0, 2), (2, 1), (2, 2), (1, 1), (1, 2), (2, 2), (1, 1), (1, 1), (1, 2), (1, 2), (1, 2), (2, 2), (0, 2), (0, 1), (1, 1), (2, 2), (2, 2), (1, 2), (2, 1), (2, 2), (2, 2), (2, 1), (2, 2), (2, 2), (2, 2), (2, 2), (2, 2), (1, 1), (1, 2), (2, 2), (2, 2), (0, 1), (2, 2), (2, 1), (2, 2), (1, 1), (2, 2), (1, 2), (1, 2), (2, 2), (0, 1), (2, 2), (2, 0), (2, 2), (2, 2), (2, 2), (2, 2), (0, 2), (2, 1), (1, 2), (1, 1), (1, 2), (1, 2), (2, 2), (2, 1), (2, 1), (2, 2), (2, 2), (2, 1), (2, 2), (2, 2), (1, 2), (0, 0), (2, 2), (1, 2), (0, 2), (1, 1), (1, 1), (0, 0), (2, 2), (2, 1), (2, 1), (1, 2), (2, 2), (2, 1), (2, 2), (1, 2), (2, 2), (2, 2), (2, 2), (2, 2), (2, 2), (2, 2), (1, 2), (1, 1), (2, 2), (1, 1), (2, 2), (2, 2), (1, 2), (0, 2), (1, 1), (1, 2), (1, 1), (1, 1)]\n"
     ]
    }
   ],
   "source": [
    "# predicting using the Kneighbors_Classifier\n",
    "from sklearn.neighbors import KNeighborsClassifier\n",
    "model_knn= KNeighborsClassifier(n_neighbors=int(np.sqrt(len(X_train))),metric='euclidean')\n",
    "# euclidean,manhatten,minkowski\n",
    "# fit the model on the data and predict the values\n",
    "model_knn.fit(X_train,Y_train)\n",
    "\n",
    "Y_pred=model_knn.predict(X_test)\n",
    "print(list(zip(Y_test,Y_pred)))"
   ]
  },
  {
   "cell_type": "code",
   "execution_count": 43,
   "metadata": {},
   "outputs": [
    {
     "name": "stdout",
     "output_type": "stream",
     "text": [
      "[[ 10   6  14]\n",
      " [  0  78  49]\n",
      " [  2  38 165]]\n",
      "Classification report: \n",
      "              precision    recall  f1-score   support\n",
      "\n",
      "           0       0.83      0.33      0.48        30\n",
      "           1       0.64      0.61      0.63       127\n",
      "           2       0.72      0.80      0.76       205\n",
      "\n",
      "    accuracy                           0.70       362\n",
      "   macro avg       0.73      0.58      0.62       362\n",
      "weighted avg       0.70      0.70      0.69       362\n",
      "\n",
      "Accuracy of the model:  0.6988950276243094\n"
     ]
    }
   ],
   "source": [
    "from sklearn.metrics import confusion_matrix, accuracy_score, classification_report\n",
    "\n",
    "cfm=confusion_matrix(Y_test,Y_pred)\n",
    "print(cfm)\n",
    "\n",
    "print(\"Classification report: \")\n",
    "\n",
    "print(classification_report(Y_test,Y_pred))\n",
    "\n",
    "acc=accuracy_score(Y_test, Y_pred)\n",
    "print(\"Accuracy of the model: \",acc)"
   ]
  },
  {
   "cell_type": "markdown",
   "metadata": {},
   "source": [
    "# SVM"
   ]
  },
  {
   "cell_type": "code",
   "execution_count": 62,
   "metadata": {},
   "outputs": [
    {
     "name": "stdout",
     "output_type": "stream",
     "text": [
      "[2, 2, 1, 2, 1, 1, 2, 1, 2, 2, 2, 2, 1, 1, 1, 2, 2, 2, 2, 2, 1, 2, 1, 2, 2, 2, 1, 1, 1, 1, 2, 1, 2, 2, 2, 2, 2, 1, 2, 2, 0, 2, 2, 2, 2, 0, 2, 1, 2, 2, 1, 1, 1, 0, 1, 2, 2, 2, 0, 1, 0, 1, 2, 2, 1, 2, 2, 0, 2, 2, 1, 1, 2, 2, 2, 0, 2, 2, 0, 2, 1, 2, 1, 1, 2, 0, 1, 2, 2, 2, 1, 2, 1, 1, 2, 2, 2, 2, 2, 1, 2, 1, 1, 2, 1, 2, 2, 1, 0, 2, 0, 2, 2, 2, 2, 2, 0, 0, 1, 1, 1, 2, 1, 2, 1, 2, 2, 1, 2, 2, 0, 2, 1, 2, 1, 2, 2, 1, 0, 1, 1, 2, 2, 2, 1, 2, 2, 2, 2, 1, 2, 2, 2, 1, 2, 1, 2, 0, 0, 1, 2, 1, 0, 2, 2, 1, 0, 2, 1, 1, 2, 2, 2, 2, 1, 1, 2, 2, 1, 2, 1, 1, 2, 1, 2, 2, 2, 2, 1, 2, 1, 1, 2, 0, 2, 0, 1, 1, 2, 2, 2, 2, 1, 0, 2, 0, 2, 2, 0, 2, 1, 2, 0, 2, 2, 2, 2, 2, 2, 2, 0, 2, 2, 2, 2, 1, 2, 1, 2, 1, 2, 1, 2, 2, 1, 2, 2, 2, 1, 0, 2, 2, 1, 1, 1, 0, 2, 2, 1, 0, 1, 1, 1, 2, 1, 2, 2, 1, 1, 1, 2, 2, 1, 2, 0, 1, 1, 0, 2, 2, 1, 1, 2, 1, 1, 1, 2, 2, 2, 0, 0, 1, 2, 2, 1, 2, 2, 2, 1, 1, 2, 2, 2, 0, 1, 1, 2, 2, 2, 2, 1, 2, 1, 2, 2, 2, 2, 0, 2, 2, 2, 2, 2, 2, 2, 2, 1, 1, 1, 0, 2, 1, 2, 2, 2, 2, 0, 2, 1, 0, 2, 2, 2, 1, 1, 0, 2, 2, 2, 0, 1, 1, 2, 1, 2, 2, 2, 2, 2, 2, 1, 1, 2, 1, 2, 2, 2, 0, 1, 1, 2, 1]\n"
     ]
    }
   ],
   "source": [
    "from sklearn.svm import SVC\n",
    "svc_model=SVC(kernel='rbf',C=10,gamma=0.1,probability=True)\n",
    "svc_model.fit(X_train,Y_train)\n",
    "Y_pred=svc_model.predict(X_test)\n",
    "print(list(Y_pred))"
   ]
  },
  {
   "cell_type": "code",
   "execution_count": 63,
   "metadata": {},
   "outputs": [
    {
     "data": {
      "text/plain": [
       "0.9122182680901542"
      ]
     },
     "execution_count": 63,
     "metadata": {},
     "output_type": "execute_result"
    }
   ],
   "source": [
    "svc_model.score(X_train,Y_train) #  WE CAN CLEARLY SEE THAT MODEL IS NOT OVERFITTED OR UNDERFITTED MODEL"
   ]
  },
  {
   "cell_type": "code",
   "execution_count": 64,
   "metadata": {},
   "outputs": [
    {
     "name": "stdout",
     "output_type": "stream",
     "text": [
      "[[ 23   0   7]\n",
      " [  7 103  17]\n",
      " [ 11  16 178]]\n",
      "Classification report: \n",
      "              precision    recall  f1-score   support\n",
      "\n",
      "           0       0.56      0.77      0.65        30\n",
      "           1       0.87      0.81      0.84       127\n",
      "           2       0.88      0.87      0.87       205\n",
      "\n",
      "    accuracy                           0.84       362\n",
      "   macro avg       0.77      0.82      0.79       362\n",
      "weighted avg       0.85      0.84      0.84       362\n",
      "\n",
      "Accuracy of the model:  0.8397790055248618\n"
     ]
    }
   ],
   "source": [
    "from sklearn.metrics import confusion_matrix, accuracy_score, classification_report\n",
    "\n",
    "cfm=confusion_matrix(Y_test,Y_pred)\n",
    "print(cfm)\n",
    "\n",
    "print(\"Classification report: \")\n",
    "\n",
    "print(classification_report(Y_test,Y_pred))\n",
    "\n",
    "acc=accuracy_score(Y_test, Y_pred)\n",
    "print(\"Accuracy of the model: \",acc)"
   ]
  },
  {
   "cell_type": "markdown",
   "metadata": {},
   "source": [
    "# DECISION TREE"
   ]
  },
  {
   "cell_type": "code",
   "execution_count": 50,
   "metadata": {},
   "outputs": [
    {
     "name": "stdout",
     "output_type": "stream",
     "text": [
      "[2, 2, 1, 2, 1, 1, 2, 1, 2, 2, 2, 2, 1, 1, 1, 2, 2, 2, 2, 2, 1, 2, 1, 2, 2, 2, 1, 1, 1, 1, 2, 1, 2, 2, 2, 2, 2, 1, 2, 2, 1, 2, 2, 2, 2, 1, 2, 1, 2, 2, 1, 1, 1, 0, 1, 2, 2, 2, 0, 1, 0, 1, 2, 2, 1, 1, 2, 0, 2, 2, 1, 1, 1, 2, 2, 0, 2, 2, 1, 2, 1, 2, 1, 1, 2, 0, 1, 2, 2, 2, 1, 2, 1, 1, 2, 2, 2, 2, 2, 1, 2, 1, 1, 2, 1, 2, 2, 1, 1, 2, 0, 2, 2, 2, 2, 1, 0, 2, 1, 1, 1, 2, 1, 2, 1, 2, 2, 1, 2, 1, 0, 1, 1, 2, 1, 2, 2, 1, 0, 1, 1, 2, 2, 2, 1, 2, 2, 2, 2, 1, 2, 2, 2, 1, 2, 1, 2, 0, 0, 1, 2, 1, 1, 2, 2, 1, 0, 2, 1, 1, 2, 2, 2, 1, 1, 1, 2, 1, 1, 2, 1, 1, 2, 1, 2, 2, 2, 2, 1, 2, 1, 1, 2, 0, 2, 0, 1, 1, 2, 2, 2, 2, 1, 0, 2, 0, 1, 2, 0, 2, 1, 2, 0, 2, 2, 2, 2, 2, 2, 2, 0, 2, 1, 2, 2, 1, 2, 1, 2, 1, 2, 1, 2, 2, 1, 2, 2, 2, 1, 0, 2, 2, 1, 1, 1, 1, 2, 2, 1, 0, 1, 1, 1, 2, 1, 2, 2, 1, 1, 1, 2, 2, 1, 2, 0, 1, 1, 0, 2, 2, 1, 1, 2, 1, 1, 1, 2, 1, 2, 0, 0, 1, 2, 2, 1, 2, 2, 2, 1, 1, 2, 2, 2, 0, 1, 1, 2, 2, 2, 2, 1, 2, 1, 2, 1, 1, 2, 0, 2, 2, 2, 2, 2, 2, 1, 2, 1, 1, 1, 0, 2, 1, 2, 2, 2, 2, 0, 2, 1, 0, 2, 2, 1, 1, 1, 0, 2, 2, 2, 1, 1, 1, 2, 1, 2, 2, 2, 2, 2, 2, 1, 1, 2, 1, 2, 2, 2, 0, 1, 1, 2, 1]\n"
     ]
    }
   ],
   "source": [
    "from sklearn.tree import DecisionTreeClassifier\n",
    "d_model=DecisionTreeClassifier(criterion='gini',random_state=10)\n",
    "#min_sample_leaf,min_samples_split,max_depth,max_features [PRUNING HYPERPARAMETERS]\n",
    "d_model.fit(X_train,Y_train)\n",
    "Y_pred=d_model.predict(X_test)\n",
    "print(list(Y_pred))"
   ]
  },
  {
   "cell_type": "code",
   "execution_count": 51,
   "metadata": {},
   "outputs": [
    {
     "name": "stdout",
     "output_type": "stream",
     "text": [
      "[[ 22   3   5]\n",
      " [  5 114   8]\n",
      " [  6  23 176]]\n",
      "Classification report: \n",
      "              precision    recall  f1-score   support\n",
      "\n",
      "           0       0.67      0.73      0.70        30\n",
      "           1       0.81      0.90      0.85       127\n",
      "           2       0.93      0.86      0.89       205\n",
      "\n",
      "    accuracy                           0.86       362\n",
      "   macro avg       0.80      0.83      0.82       362\n",
      "weighted avg       0.87      0.86      0.86       362\n",
      "\n",
      "Accuracy of the model:  0.861878453038674\n"
     ]
    }
   ],
   "source": [
    "from sklearn.metrics import confusion_matrix, accuracy_score, classification_report\n",
    "\n",
    "cfm=confusion_matrix(Y_test,Y_pred)\n",
    "print(cfm)\n",
    "\n",
    "print(\"Classification report: \")\n",
    "\n",
    "print(classification_report(Y_test,Y_pred))\n",
    "\n",
    "acc=accuracy_score(Y_test, Y_pred)\n",
    "print(\"Accuracy of the model: \",acc)"
   ]
  },
  {
   "cell_type": "code",
   "execution_count": 52,
   "metadata": {},
   "outputs": [
    {
     "data": {
      "text/plain": [
       "0.9145907473309609"
      ]
     },
     "execution_count": 52,
     "metadata": {},
     "output_type": "execute_result"
    }
   ],
   "source": [
    "d_model.score(X_train,Y_train)  #  WE CAN CLEARLY SEE THAT MODEL IS NOT OVERFITTED OR UNDERFITTED MODEL"
   ]
  },
  {
   "cell_type": "markdown",
   "metadata": {},
   "source": [
    "# RANDOM FOREST"
   ]
  },
  {
   "cell_type": "code",
   "execution_count": 53,
   "metadata": {},
   "outputs": [],
   "source": [
    "from sklearn.ensemble import RandomForestClassifier\n",
    "model_r=RandomForestClassifier(n_estimators=100,bootstrap=True,n_jobs=-1)\n",
    "model_r.fit(X_train,Y_train)\n",
    "Y_pred=model_r.predict(X_test)"
   ]
  },
  {
   "cell_type": "code",
   "execution_count": 54,
   "metadata": {},
   "outputs": [
    {
     "name": "stdout",
     "output_type": "stream",
     "text": [
      "[[ 23   0   7]\n",
      " [  5 112  10]\n",
      " [  6  22 177]]\n",
      " classification_report:\n",
      "              precision    recall  f1-score   support\n",
      "\n",
      "           0       0.68      0.77      0.72        30\n",
      "           1       0.84      0.88      0.86       127\n",
      "           2       0.91      0.86      0.89       205\n",
      "\n",
      "    accuracy                           0.86       362\n",
      "   macro avg       0.81      0.84      0.82       362\n",
      "weighted avg       0.87      0.86      0.86       362\n",
      "\n",
      "accuracy_score 0.861878453038674\n"
     ]
    }
   ],
   "source": [
    "from sklearn.metrics import classification_report,confusion_matrix,accuracy_score\n",
    "cfm=confusion_matrix(Y_test,Y_pred)\n",
    "print(cfm)\n",
    "print(' classification_report:')\n",
    "print( classification_report(Y_test,Y_pred))\n",
    "acc=accuracy_score(Y_test,Y_pred)\n",
    "print('accuracy_score',acc)"
   ]
  },
  {
   "cell_type": "code",
   "execution_count": 55,
   "metadata": {},
   "outputs": [
    {
     "data": {
      "text/plain": [
       "0.9145907473309609"
      ]
     },
     "execution_count": 55,
     "metadata": {},
     "output_type": "execute_result"
    }
   ],
   "source": [
    "model_r.score(X_train,Y_train) #  WE CAN CLEARLY SEE THAT MODEL IS NOT OVERFITTED OR UNDERFITTED MODEL"
   ]
  },
  {
   "cell_type": "markdown",
   "metadata": {},
   "source": [
    "SO AFTER APPLYING VARIOUS ML ALGORITHM WE CAN SEE RANDOM FOREST IS GIVING US A GOOD ACCURACY WITH A DESCENT RECALL VALUE , HENCE \n",
    "FOR ANY FUTURE PREDICTION WE WILL USE RANDOM FOREST MODEL."
   ]
  }
 ],
 "metadata": {
  "kernelspec": {
   "display_name": "Python 3",
   "language": "python",
   "name": "python3"
  },
  "language_info": {
   "codemirror_mode": {
    "name": "ipython",
    "version": 3
   },
   "file_extension": ".py",
   "mimetype": "text/x-python",
   "name": "python",
   "nbconvert_exporter": "python",
   "pygments_lexer": "ipython3",
   "version": "3.7.6"
  }
 },
 "nbformat": 4,
 "nbformat_minor": 4
}
